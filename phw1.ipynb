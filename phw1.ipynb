{
 "cells": [
  {
   "cell_type": "code",
   "execution_count": 3,
   "id": "63cb37f0",
   "metadata": {},
   "outputs": [
    {
     "name": "stdout",
     "output_type": "stream",
     "text": [
      "/bin/bash: wget: command not found\n"
     ]
    }
   ],
   "source": [
    "import matplotlib.pyplot as plt\n",
    "# Following line downloads FASTA file containing the lambda phage reference genome\n",
    "!wget http://d28rh4a8wq0iu5.cloudfront.net/ads1/data/lambda_virus.fa"
   ]
  },
  {
   "cell_type": "markdown",
   "id": "9ada4faf",
   "metadata": {},
   "source": [
    "FUNCTIONS"
   ]
  },
  {
   "cell_type": "code",
   "execution_count": 12,
   "id": "6ae4826c",
   "metadata": {},
   "outputs": [],
   "source": [
    "# reading the fas file \n",
    "\n",
    "def readGenome(filename):\n",
    "    genome = ''\n",
    "    with open(filename, 'r') as f: # r for reading \n",
    "        for line in f:\n",
    "            # ignore header line with genome information\n",
    "            if not line[0] == '>':\n",
    "                genome += line.rstrip() # trim any space in the spcace at the end.\n",
    "    return genome\n",
    "genome = readGenome('lambda_virus.fa')\n",
    "#genome[:100] # pinting the \n",
    "\n",
    "# func for the reverse complement\n",
    "\n",
    "def reverseComplement(s):\n",
    "    complement = {'A': 'T', 'C': 'G', 'G': 'C', 'T': 'A', 'N': 'N'}\n",
    "    t = ''\n",
    "    for base in s:\n",
    "        t = complement[base] + t\n",
    "    return t\n",
    "\n",
    "# func to find the \n",
    "def naive_with_rc(patter, text):\n",
    "    p_rev = reverseComplement(patter)\n",
    "    occurrences = []\n",
    "    for i in range(len(text) - len(patter) + 1):  # loop over alignments\n",
    "        match = True\n",
    "        for j in range(len(patter)):  # loop over characters\n",
    "            if text[i+j] != patter[j]:  # compare characters\n",
    "                match = False\n",
    "                break\n",
    "        if not match:\n",
    "            match = True\n",
    "            for j in range(len(patter)):  # loop over characters\n",
    "                if text[i + j] != p_rev[j]:  # compare characters\n",
    "                    match = False\n",
    "                    break\n",
    "        if match:\n",
    "            occurrences.append(i)  # all chars matched; record\n",
    "    return occurrences\n"
   ]
  },
  {
   "cell_type": "code",
   "execution_count": 13,
   "id": "b99c4d83",
   "metadata": {},
   "outputs": [
    {
     "name": "stdout",
     "output_type": "stream",
     "text": [
      "306\n",
      "306\n"
     ]
    }
   ],
   "source": [
    "# Question 1\n",
    "\n",
    "print(len(naive_with_rc('AGGT', genome)))\n",
    "print(len(naive_with_rc('ACCT', genome)))"
   ]
  },
  {
   "cell_type": "markdown",
   "id": "9d31b3a0",
   "metadata": {},
   "source": [
    "# How many times does \\verb|TTAA|TTAA or its reverse complement \n",
    "# occur in the lambda virus genome?  \n",
    "\n",
    "# Hint: \\verb|TTAA|TTAA and its reverse complement are equal, \n",
    "#so remember not to double count."
   ]
  },
  {
   "cell_type": "code",
   "execution_count": 5,
   "id": "ec7a749d",
   "metadata": {},
   "outputs": [
    {
     "name": "stdout",
     "output_type": "stream",
     "text": [
      "195\n"
     ]
    }
   ],
   "source": [
    "# QUESTION 2\n",
    "print(len(naive_with_rc('TTAA', genome)))"
   ]
  },
  {
   "cell_type": "code",
   "execution_count": 7,
   "id": "1abeadce",
   "metadata": {},
   "outputs": [
    {
     "name": "stdout",
     "output_type": "stream",
     "text": [
      "26028\n"
     ]
    }
   ],
   "source": [
    "#QUESTION 3\n",
    "print(min(naive_with_rc('ACTAAGT', genome)))"
   ]
  },
  {
   "cell_type": "code",
   "execution_count": 8,
   "id": "90b7a168",
   "metadata": {},
   "outputs": [
    {
     "name": "stdout",
     "output_type": "stream",
     "text": [
      "450\n"
     ]
    }
   ],
   "source": [
    "# question 4\n",
    "print(min(naive_with_rc('AGTCGA', genome)))"
   ]
  },
  {
   "cell_type": "markdown",
   "id": "fb7b23f3",
   "metadata": {},
   "source": [
    "Q5. Make a new version of the naive function called naive_2mm that allows up to 2 mismatches per occurrence. Unlike for the previous questions, do not consider the reverse complement here. How many times does TTCAAGCC occur in the Lambda virus genome when allowing up to 2 mismatches?"
   ]
  },
  {
   "cell_type": "code",
   "execution_count": 15,
   "id": "e89496cc",
   "metadata": {},
   "outputs": [],
   "source": [
    "def naive_2mm(p, t):\n",
    "    occurrences = []\n",
    "    for i in range(len(t) - len(p) + 1):  # loop over alignments\n",
    "        count_mismatch = 0\n",
    "        for j in range(len(p)):  # loop over characters\n",
    "            if t[i+j] != p[j]:  # compare characters\n",
    "                count_mismatch += 1\n",
    "        if count_mismatch <= 2:\n",
    "            occurrences.append(i)  # all chars matched; record\n",
    "    return occurrences"
   ]
  },
  {
   "cell_type": "code",
   "execution_count": 16,
   "id": "69ec8197",
   "metadata": {},
   "outputs": [
    {
     "name": "stdout",
     "output_type": "stream",
     "text": [
      "191\n"
     ]
    }
   ],
   "source": [
    "# Question5\n",
    "print(len(naive_2mm('TTCAAGCC', genome)))"
   ]
  },
  {
   "cell_type": "code",
   "execution_count": 17,
   "id": "e69871ac",
   "metadata": {},
   "outputs": [
    {
     "name": "stdout",
     "output_type": "stream",
     "text": [
      "49\n"
     ]
    }
   ],
   "source": [
    "# Question6\n",
    "print(min(naive_2mm('AGGAGGTT', genome)))"
   ]
  },
  {
   "cell_type": "markdown",
   "id": "72d801ab",
   "metadata": {},
   "source": [
    "Q7. Report which sequencing cycle has the problem. Remember that a sequencing cycle corresponds to a particular offset in all the reads."
   ]
  },
  {
   "cell_type": "code",
   "execution_count": 18,
   "id": "dbc72376",
   "metadata": {},
   "outputs": [],
   "source": [
    "def readFastq(filename):\n",
    "    sequences = []\n",
    "    qualities = []\n",
    "    with open(filename) as fh:\n",
    "        while True:\n",
    "            fh.readline()  # skip name line\n",
    "            seq = fh.readline().rstrip()  # read base sequence\n",
    "            fh.readline()  # skip placeholder line\n",
    "            qual = fh.readline().rstrip() # base quality line\n",
    "            if len(seq) == 0:\n",
    "                break\n",
    "            sequences.append(seq)\n",
    "            qualities.append(qual)\n",
    "    return sequences, qualities\n",
    "\n",
    "\n",
    "def phred33ToQ(qual):\n",
    "    return ord(qual) - 33\n",
    "\n",
    "\n",
    "def createHist(qualities):\n",
    "    # Create a histogram of quality scores\n",
    "    hist = [0]*len(qualities[0])\n",
    "    for qual in qualities:\n",
    "        for i in range(len(qual)):\n",
    "            q = phred33ToQ(qual[i])\n",
    "            hist[i] += q\n",
    "    return hist"
   ]
  },
  {
   "cell_type": "code",
   "execution_count": 24,
   "id": "32248775",
   "metadata": {},
   "outputs": [
    {
     "name": "stdout",
     "output_type": "stream",
     "text": [
      "/bin/bash: wget: command not found\n"
     ]
    },
    {
     "ename": "TypeError",
     "evalue": "expected str, bytes or os.PathLike object, not SList",
     "output_type": "error",
     "traceback": [
      "Traceback \u001b[0;36m(most recent call last)\u001b[0m:\n",
      "  File \u001b[1;32m\"<ipython-input-24-4ab0a6343394>\"\u001b[0m, line \u001b[1;32m3\u001b[0m, in \u001b[1;35m<module>\u001b[0m\n    quals = readFastq(reads_file)\n",
      "\u001b[0;36m  File \u001b[0;32m\"<ipython-input-18-4fa115258182>\"\u001b[0;36m, line \u001b[0;32m4\u001b[0;36m, in \u001b[0;35mreadFastq\u001b[0;36m\u001b[0m\n\u001b[0;31m    with open(filename) as fh:\u001b[0m\n",
      "\u001b[0;31mTypeError\u001b[0m\u001b[0;31m:\u001b[0m expected str, bytes or os.PathLike object, not SList\n"
     ]
    }
   ],
   "source": [
    "!wget https://d28rh4a8wq0iu5.cloudfront.net/ads1/data/ERR037900_1.first1000.fastq\n",
    "\n",
    "reads_file = \n",
    "quals = readFastq(reads_file)\n",
    "qual_hist = createHist(quals)\n",
    "plt.plot(range(len(qual_hist)), qual_hist)\n",
    "plt.show()"
   ]
  },
  {
   "cell_type": "code",
   "execution_count": null,
   "id": "4f2ac1e1",
   "metadata": {},
   "outputs": [],
   "source": []
  }
 ],
 "metadata": {
  "kernelspec": {
   "display_name": "Python 3 (Spyder)",
   "language": "python3",
   "name": "python3"
  },
  "language_info": {
   "codemirror_mode": {
    "name": "ipython",
    "version": 3
   },
   "file_extension": ".py",
   "mimetype": "text/x-python",
   "name": "python",
   "nbconvert_exporter": "python",
   "pygments_lexer": "ipython3",
   "version": "3.8.8"
  }
 },
 "nbformat": 4,
 "nbformat_minor": 5
}
